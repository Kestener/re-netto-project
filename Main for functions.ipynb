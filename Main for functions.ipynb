{
 "cells": [
  {
   "cell_type": "code",
   "execution_count": null,
   "metadata": {},
   "outputs": [],
   "source": [
    "import pandas as pd\n",
    "import os \n",
    "from functions import to_minute, do_checkout, unique_customers_and_combine_files,create_next_location\n",
    "from datetime import timedelta\n",
    "import seaborn as sns\n",
    "import numpy as np"
   ]
  },
  {
   "cell_type": "code",
   "execution_count": null,
   "metadata": {},
   "outputs": [],
   "source": [
    "#create df with all days \n",
    "df = unique_customers_and_combine_files(path= '../data/')\n",
    "df.head(), df.shape, df.info()"
   ]
  },
  {
   "cell_type": "code",
   "execution_count": null,
   "metadata": {},
   "outputs": [],
   "source": [
    "#transform df on minute base\n",
    "df = to_minute(df)\n",
    "df.head()"
   ]
  },
  {
   "cell_type": "code",
   "execution_count": null,
   "metadata": {},
   "outputs": [],
   "source": [
    "#transform df by adding checkouts\n",
    "df = do_checkout(df)\n",
    "df.tail()"
   ]
  },
  {
   "cell_type": "code",
   "execution_count": null,
   "metadata": {},
   "outputs": [],
   "source": [
    "#transform to add next location\n",
    "df = create_next_location(df)\n",
    "df.head()"
   ]
  },
  {
   "cell_type": "code",
   "execution_count": null,
   "metadata": {},
   "outputs": [],
   "source": [
    "#create crosstab with probabilities\n",
    "P = pd.crosstab(index=df['location'],columns=df['next_location'],normalize='index').round(3)\n",
    "P"
   ]
  },
  {
   "cell_type": "code",
   "execution_count": null,
   "metadata": {},
   "outputs": [],
   "source": [
    "#check if sum = 1\n",
    "states = df['location'].unique()\n",
    "for state in states:\n",
    "    print(f'Sum of Prob for {state} is {P.loc[state,:].sum()}')"
   ]
  }
 ],
 "metadata": {
  "kernelspec": {
   "display_name": "base",
   "language": "python",
   "name": "python3"
  },
  "language_info": {
   "codemirror_mode": {
    "name": "ipython",
    "version": 3
   },
   "file_extension": ".py",
   "mimetype": "text/x-python",
   "name": "python",
   "nbconvert_exporter": "python",
   "pygments_lexer": "ipython3",
   "version": "3.9.16"
  },
  "orig_nbformat": 4,
  "vscode": {
   "interpreter": {
    "hash": "cba00c2c4b2cdb3711cc6dc51426175bbff6f86454af41dfccdba0538132bd3f"
   }
  }
 },
 "nbformat": 4,
 "nbformat_minor": 2
}
